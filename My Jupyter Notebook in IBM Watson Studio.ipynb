{
 "cells": [
  {
   "cell_type": "markdown",
   "id": "6b510cda-2abd-4d25-9015-c96d2ae2baf2",
   "metadata": {},
   "source": [
    "# My Jupyter Notebook in IBM Watson Studio"
   ]
  },
  {
   "cell_type": "markdown",
   "id": "59951697-93e7-478e-be2c-3c4fb68cfdaa",
   "metadata": {},
   "source": [
    "**Carl-Oscar Ekrot**"
   ]
  },
  {
   "cell_type": "markdown",
   "id": "fe723619-ac9d-427f-9bb4-9873d345f95f",
   "metadata": {},
   "source": [
    "Aspiring Data Scientist"
   ]
  },
  {
   "cell_type": "markdown",
   "id": "50870961-0439-45a3-b534-943257872728",
   "metadata": {},
   "source": [
    "### This code runs a small mathematical problem"
   ]
  },
  {
   "cell_type": "code",
   "execution_count": 2,
   "id": "1aca8b39-06cb-432f-8bba-af964cc3b73e",
   "metadata": {},
   "outputs": [
    {
     "data": {
      "text/plain": [
       "164.0"
      ]
     },
     "execution_count": 2,
     "metadata": {},
     "output_type": "execute_result"
    }
   ],
   "source": [
    "12**2 + (4/2*10)"
   ]
  },
  {
   "cell_type": "markdown",
   "id": "3f353a06-e0ab-483d-ae07-9a4cdbfa7018",
   "metadata": {},
   "source": [
    "1. This is getting more complicated\n",
    "2. But it's so much fun!\n",
    "3. Let's go guys!\n",
    "4. We can do this!\n",
    "\n",
    "\n",
    "\n",
    "Team| Wins | Points\n",
    "--- | --- | ---\n",
    "Arsenal | 10 | 30\n",
    "Man C | 1 | 3\n",
    "\n",
    "\n",
    "[For Help, visit Google's Homepage](https://www.google.com \"For Help, visit Google's Homepage\")\n"
   ]
  },
  {
   "cell_type": "code",
   "execution_count": null,
   "id": "b3baeb1a-956a-43d5-bfd3-82d3dd063e59",
   "metadata": {},
   "outputs": [],
   "source": []
  }
 ],
 "metadata": {
  "kernelspec": {
   "display_name": "Python",
   "language": "python",
   "name": "conda-env-python-py"
  },
  "language_info": {
   "codemirror_mode": {
    "name": "ipython",
    "version": 3
   },
   "file_extension": ".py",
   "mimetype": "text/x-python",
   "name": "python",
   "nbconvert_exporter": "python",
   "pygments_lexer": "ipython3",
   "version": "3.7.12"
  }
 },
 "nbformat": 4,
 "nbformat_minor": 5
}
